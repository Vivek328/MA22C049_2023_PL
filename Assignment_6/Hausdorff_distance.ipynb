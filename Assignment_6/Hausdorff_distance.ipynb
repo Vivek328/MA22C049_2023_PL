{
  "nbformat": 4,
  "nbformat_minor": 0,
  "metadata": {
    "colab": {
      "provenance": []
    },
    "kernelspec": {
      "name": "python3",
      "display_name": "Python 3"
    },
    "language_info": {
      "name": "python"
    }
  },
  "cells": [
    {
      "cell_type": "code",
      "execution_count": null,
      "metadata": {
        "colab": {
          "base_uri": "https://localhost:8080/"
        },
        "id": "O9kTjvls56Ea",
        "outputId": "7cfb97a8-a5a3-46b0-b21d-f6cec540b967"
      },
      "outputs": [
        {
          "output_type": "stream",
          "name": "stdout",
          "text": [
            "[[0.03205817 0.23683848]\n",
            " [0.00370997 0.4887101 ]\n",
            " [0.68595103 0.1146712 ]\n",
            " [0.21680723 0.99793318]\n",
            " [0.83987859 0.83507766]]\n",
            "[[0.46010114 0.30325484]\n",
            " [0.74298924 0.17122237]\n",
            " [0.288909   0.89068703]\n",
            " [0.78637371 0.28981954]\n",
            " [0.42384416 0.85393104]\n",
            " [0.68533009 0.71079515]\n",
            " [0.18601968 0.84926538]]\n",
            " Hausdorff distance between P and Q is equal to : 0.433165000660685\n"
          ]
        }
      ],
      "source": [
        "import numpy as np\n",
        "# To calculate Hausdorff distance\n",
        "def h(P,Q):\n",
        "  min_dist_value =[]\n",
        "  for x in P :\n",
        "    min_dist=min(np.linalg.norm(x-y) for y in Q)\n",
        "    min_dist_value.append(min_dist)\n",
        "  return max(min_dist_value)\n",
        "def Hausdorff_dist(P,Q):\n",
        "  semi_hPQ= h(P,Q)\n",
        "  semi_hQP=h(Q,P)\n",
        "  return max(semi_hPQ,semi_hQP)\n",
        "\n",
        "P = np.random.rand(5, 2)\n",
        "Q = np.random.rand(7, 2)\n",
        "print(P,Q,sep='\\n')\n",
        "Hausdorff_distance=Hausdorff_dist(P,Q)\n",
        "print( \" Hausdorff distance between P and Q is equal to :\",Hausdorff_distance)\n"
      ]
    }
  ]
}