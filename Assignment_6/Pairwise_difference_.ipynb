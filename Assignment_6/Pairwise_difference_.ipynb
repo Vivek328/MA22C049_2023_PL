{
  "nbformat": 4,
  "nbformat_minor": 0,
  "metadata": {
    "colab": {
      "provenance": []
    },
    "kernelspec": {
      "name": "python3",
      "display_name": "Python 3"
    },
    "language_info": {
      "name": "python"
    }
  },
  "cells": [
    {
      "cell_type": "code",
      "execution_count": null,
      "metadata": {
        "colab": {
          "base_uri": "https://localhost:8080/"
        },
        "id": "5Xi9tfMHT7R1",
        "outputId": "fe618cc3-dca5-48b6-8575-83efa88facaf"
      },
      "outputs": [
        {
          "output_type": "stream",
          "name": "stdout",
          "text": [
            "[[ 0.          0.14493896  0.56785555  0.47307128  0.40164426]\n",
            " [-0.14493896  0.          0.42291659  0.32813233  0.2567053 ]\n",
            " [-0.56785555 -0.42291659  0.         -0.09478427 -0.16621129]\n",
            " [-0.47307128 -0.32813233  0.09478427  0.         -0.07142702]\n",
            " [-0.40164426 -0.2567053   0.16621129  0.07142702  0.        ]]\n",
            "[[1]\n",
            " [2]\n",
            " [3]\n",
            " [4]\n",
            " [5]]\n",
            "[[1 2 3 4 5]]\n",
            "[[ 0 -1 -2 -3 -4]\n",
            " [ 1  0 -1 -2 -3]\n",
            " [ 2  1  0 -1 -2]\n",
            " [ 3  2  1  0 -1]\n",
            " [ 4  3  2  1  0]]\n"
          ]
        }
      ],
      "source": [
        "import numpy as np\n",
        "x = np.random.rand(5)\n",
        "D = x[:, np.newaxis] - x[np.newaxis, :]\n",
        "\n",
        "print(D)\n",
        "# Extra task\n",
        "x = np.array([1, 2, 3, 4, 5])\n",
        "a=x[:, np.newaxis]\n",
        "print(a)\n",
        "b= x[np.newaxis, :]\n",
        "print(b)\n",
        "D=a-b\n",
        "print(D)\n"
      ]
    }
  ]
}