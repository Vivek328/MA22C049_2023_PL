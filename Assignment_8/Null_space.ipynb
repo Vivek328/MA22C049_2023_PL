{
  "nbformat": 4,
  "nbformat_minor": 0,
  "metadata": {
    "colab": {
      "provenance": []
    },
    "kernelspec": {
      "name": "python3",
      "display_name": "Python 3"
    },
    "language_info": {
      "name": "python"
    }
  },
  "cells": [
    {
      "cell_type": "code",
      "execution_count": 9,
      "metadata": {
        "colab": {
          "base_uri": "https://localhost:8080/"
        },
        "id": "_C7lU4ICy4BF",
        "outputId": "02d53b47-fa8f-497a-979f-c6df86be0ee4"
      },
      "outputs": [
        {
          "output_type": "stream",
          "name": "stdout",
          "text": [
            "Matrix A:\n",
            "[[ 1 -2  9  5  4]\n",
            " [ 1 -1  6  5 -3]\n",
            " [-2  0 -6  1 -2]\n",
            " [ 4  1  9  1 -9]]\n",
            "\n",
            "Left Singular Vector Matrix u:\n",
            "[[ 0.498  0.72  -0.106  0.471]\n",
            " [ 0.459  0.009 -0.618 -0.638]\n",
            " [-0.283 -0.261 -0.758  0.527]\n",
            " [ 0.679 -0.643  0.18   0.305]]\n",
            "\n",
            "Singular Values (s):\n",
            "[17.208 10.145  4.995  0.   ]\n",
            "\n",
            "Conjugate Transpose of Right Singular Vector Matrix (vh):\n",
            "[[ 0.246 -0.045  0.874  0.301 -0.287]\n",
            " [-0.13  -0.206  0.229  0.271  0.903]\n",
            " [ 0.303  0.202  0.302 -0.84   0.265]\n",
            " [-0.872  0.357  0.291 -0.147 -0.074]\n",
            " [ 0.265  0.887 -0.088  0.329  0.165]]\n",
            "The matrix ranK of A is :  3\n",
            " null space of A:\n",
            "[[-0.872  0.265]\n",
            " [ 0.357  0.887]\n",
            " [ 0.291 -0.088]\n",
            " [-0.147  0.329]\n",
            " [-0.074  0.165]]\n"
          ]
        }
      ],
      "source": [
        "# find nullspace using SVD\n",
        "import numpy as np\n",
        "from scipy.linalg import svd, qr\n",
        "A = np.array([[1, -2, 9, 5, 4,], [1, -1, 6, 5, -3], [-2, 0, -6, 1, -2],\n",
        "[4, 1, 9, 1, -9]])\n",
        "np.set_printoptions(precision=3, suppress=True)\n",
        "# calculation of svd matrix\n",
        "u, s, vh = svd(A)\n",
        "# Display the results\n",
        "print(\"Matrix A:\")\n",
        "print(A)\n",
        "print(\"\\nLeft Singular Vector Matrix u:\")\n",
        "print(u)\n",
        "print(\"\\nSingular Values (s):\")\n",
        "print(s)\n",
        "print(\"\\nConjugate Transpose of Right Singular Vector Matrix (vh):\")\n",
        "print(vh)\n",
        "rank_A=np.linalg.matrix_rank(A)\n",
        "print(\"The matrix ranK of A is : \",np.linalg.matrix_rank(A))\n",
        "\n",
        "null_space = vh[rank_A:].T\n",
        "print(\" null space of A:\")\n",
        "print(null_space)\n",
        "\n",
        "\n",
        "\n"
      ]
    },
    {
      "cell_type": "code",
      "source": [
        "#Find the null space of the same matrix A using the QR\n",
        "import numpy as np\n",
        "from scipy.linalg import svd, qr\n",
        "A = np.array([[1, -2, 9, 5, 4,], [1, -1, 6, 5, -3], [-2, 0, -6, 1, -2],\n",
        "[4, 1, 9, 1, -9]])\n",
        "np.set_printoptions(precision=3, suppress=True)\n",
        "# calculation of QR  matrix\n",
        "Q, R = qr(A)\n",
        "# Display the results\n",
        "print(\"Matrix A:\")\n",
        "print(A)\n",
        "print(\"\\n Matrix Q:\")\n",
        "print(Q)\n",
        "print(\" matrix R :\")\n",
        "print(R)\n",
        "\n",
        "rank_A=np.linalg.matrix_rank(A)\n",
        "print(\"The matrix ranK of A is : \",np.linalg.matrix_rank(A))\n",
        "\n",
        "null_space = Q[:,rank_A:]\n",
        "print(\"Basis for the null space of A:\")\n",
        "print(null_space)"
      ],
      "metadata": {
        "colab": {
          "base_uri": "https://localhost:8080/"
        },
        "id": "jS_Xsc5hI-Eq",
        "outputId": "130c9ffb-e44e-4bb7-efef-e1e3c2e30910"
      },
      "execution_count": 10,
      "outputs": [
        {
          "output_type": "stream",
          "name": "stdout",
          "text": [
            "Matrix A:\n",
            "[[ 1 -2  9  5  4]\n",
            " [ 1 -1  6  5 -3]\n",
            " [-2  0 -6  1 -2]\n",
            " [ 4  1  9  1 -9]]\n",
            "\n",
            " Matrix Q:\n",
            "[[-0.213 -0.838  0.317 -0.389]\n",
            " [-0.213 -0.428 -0.779  0.405]\n",
            " [ 0.426  0.037 -0.522 -0.738]\n",
            " [-0.853  0.335 -0.145 -0.373]]\n",
            " matrix R :\n",
            "[[ -4.69   -0.213 -13.432  -2.558   6.609]\n",
            " [  0.      2.44   -7.321  -5.961  -5.16 ]\n",
            " [  0.      0.      0.     -2.977   5.954]\n",
            " [  0.      0.      0.     -1.03    2.061]]\n",
            "The matrix ranK of A is :  3\n",
            "Basis for the null space of A:\n",
            "[[-0.389]\n",
            " [ 0.405]\n",
            " [-0.738]\n",
            " [-0.373]]\n"
          ]
        }
      ]
    },
    {
      "cell_type": "markdown",
      "source": [
        "Some Extra work"
      ],
      "metadata": {
        "id": "t3yGkghluCOi"
      }
    },
    {
      "cell_type": "code",
      "source": [
        "\n",
        "\n",
        "from sympy import Matrix ,init_printing\n",
        "init_printing()\n",
        "A = Matrix([[1, -2, 9, 5, 4,], [1, -1, 6, 5, -3], [-2, 0, -6, 1, -2],\n",
        "[4, 1, 9, 1, -9]])\n",
        "A\n",
        "\n"
      ],
      "metadata": {
        "colab": {
          "base_uri": "https://localhost:8080/",
          "height": 98
        },
        "id": "48vagMdZ4iim",
        "outputId": "094b2faa-24ab-4b30-de7a-2c0fd418ef9d"
      },
      "execution_count": 11,
      "outputs": [
        {
          "output_type": "execute_result",
          "data": {
            "text/plain": [
              "⎡1   -2  9   5  4 ⎤\n",
              "⎢                 ⎥\n",
              "⎢1   -1  6   5  -3⎥\n",
              "⎢                 ⎥\n",
              "⎢-2  0   -6  1  -2⎥\n",
              "⎢                 ⎥\n",
              "⎣4   1   9   1  -9⎦"
            ],
            "text/latex": "$\\displaystyle \\left[\\begin{matrix}1 & -2 & 9 & 5 & 4\\\\1 & -1 & 6 & 5 & -3\\\\-2 & 0 & -6 & 1 & -2\\\\4 & 1 & 9 & 1 & -9\\end{matrix}\\right]$"
          },
          "metadata": {},
          "execution_count": 11
        }
      ]
    },
    {
      "cell_type": "code",
      "source": [
        "X=A.rref()\n",
        "X"
      ],
      "metadata": {
        "colab": {
          "base_uri": "https://localhost:8080/",
          "height": 99
        },
        "id": "4tiFDwcb7ztR",
        "outputId": "2414d32f-f14c-404a-ec28-1adcff69c71c"
      },
      "execution_count": 12,
      "outputs": [
        {
          "output_type": "execute_result",
          "data": {
            "text/plain": [
              "⎛⎡1  0  3   0  0 ⎤           ⎞\n",
              "⎜⎢               ⎥           ⎟\n",
              "⎜⎢0  1  -3  0  -7⎥           ⎟\n",
              "⎜⎢               ⎥, (0, 1, 3)⎟\n",
              "⎜⎢0  0  0   1  -2⎥           ⎟\n",
              "⎜⎢               ⎥           ⎟\n",
              "⎝⎣0  0  0   0  0 ⎦           ⎠"
            ],
            "text/latex": "$\\displaystyle \\left( \\left[\\begin{matrix}1 & 0 & 3 & 0 & 0\\\\0 & 1 & -3 & 0 & -7\\\\0 & 0 & 0 & 1 & -2\\\\0 & 0 & 0 & 0 & 0\\end{matrix}\\right], \\  \\left( 0, \\  1, \\  3\\right)\\right)$"
          },
          "metadata": {},
          "execution_count": 12
        }
      ]
    },
    {
      "cell_type": "code",
      "source": [
        "ref, pivot_cols = A.rref()\n",
        "print(ref, pivot_cols)"
      ],
      "metadata": {
        "colab": {
          "base_uri": "https://localhost:8080/"
        },
        "id": "R3uzkRk3BCBi",
        "outputId": "890a6cfb-c974-4a4d-adfc-957671f2edc7"
      },
      "execution_count": 13,
      "outputs": [
        {
          "output_type": "stream",
          "name": "stdout",
          "text": [
            "Matrix([[1, 0, 3, 0, 0], [0, 1, -3, 0, -7], [0, 0, 0, 1, -2], [0, 0, 0, 0, 0]]) (0, 1, 3)\n"
          ]
        }
      ]
    },
    {
      "cell_type": "code",
      "source": [
        "A.nullspace()\n",
        "\n"
      ],
      "metadata": {
        "colab": {
          "base_uri": "https://localhost:8080/",
          "height": 119
        },
        "id": "J5_TuMmo78Fq",
        "outputId": "3d44ee83-f315-4202-d003-2857c8738176"
      },
      "execution_count": 14,
      "outputs": [
        {
          "output_type": "execute_result",
          "data": {
            "text/plain": [
              "⎡⎡-3⎤  ⎡0⎤⎤\n",
              "⎢⎢  ⎥  ⎢ ⎥⎥\n",
              "⎢⎢3 ⎥  ⎢7⎥⎥\n",
              "⎢⎢  ⎥  ⎢ ⎥⎥\n",
              "⎢⎢1 ⎥, ⎢0⎥⎥\n",
              "⎢⎢  ⎥  ⎢ ⎥⎥\n",
              "⎢⎢0 ⎥  ⎢2⎥⎥\n",
              "⎢⎢  ⎥  ⎢ ⎥⎥\n",
              "⎣⎣0 ⎦  ⎣1⎦⎦"
            ],
            "text/latex": "$\\displaystyle \\left[ \\left[\\begin{matrix}-3\\\\3\\\\1\\\\0\\\\0\\end{matrix}\\right], \\  \\left[\\begin{matrix}0\\\\7\\\\0\\\\2\\\\1\\end{matrix}\\right]\\right]$"
          },
          "metadata": {},
          "execution_count": 14
        }
      ]
    },
    {
      "cell_type": "code",
      "source": [
        "range_space_basis = A[:, pivot_cols]\n",
        "print(range_space_basis )"
      ],
      "metadata": {
        "colab": {
          "base_uri": "https://localhost:8080/"
        },
        "id": "JwhuZRhYBhob",
        "outputId": "0e4829b1-7009-4b18-8798-6f266741426b"
      },
      "execution_count": 15,
      "outputs": [
        {
          "output_type": "stream",
          "name": "stdout",
          "text": [
            "Matrix([[1, -2, 5], [1, -1, 5], [-2, 0, 1], [4, 1, 1]])\n"
          ]
        }
      ]
    },
    {
      "cell_type": "code",
      "source": [
        "import numpy as np\n",
        "from scipy.linalg import svd\n",
        "\n",
        "# Define the matrix A\n",
        "A = np.array([[1, -2, 9, 5, 4], [1, -1, 6, 5, -3], [-2, 0, -6, 1, -2], [4, 1, 9, 1, -9]])\n",
        "\n",
        "# Compute the SVD of A\n",
        "U, S, Vt = svd(A)\n",
        "\n",
        "# Find the null space from the SVD\n",
        "null_space = Vt.T[:, np.where(S < 1e-10)[0]]\n",
        "\n",
        "print(\"Null Space of A:\")\n",
        "print(null_space)\n"
      ],
      "metadata": {
        "colab": {
          "base_uri": "https://localhost:8080/"
        },
        "id": "LTydUtr0tUjd",
        "outputId": "aea8b91a-ec52-4a0c-b2cb-2a33c0f4a1b1"
      },
      "execution_count": 16,
      "outputs": [
        {
          "output_type": "stream",
          "name": "stdout",
          "text": [
            "Null Space of A:\n",
            "[[-0.872]\n",
            " [ 0.357]\n",
            " [ 0.291]\n",
            " [-0.147]\n",
            " [-0.074]]\n"
          ]
        }
      ]
    },
    {
      "cell_type": "code",
      "source": [],
      "metadata": {
        "id": "dqI00qKvtjaH"
      },
      "execution_count": null,
      "outputs": []
    }
  ]
}