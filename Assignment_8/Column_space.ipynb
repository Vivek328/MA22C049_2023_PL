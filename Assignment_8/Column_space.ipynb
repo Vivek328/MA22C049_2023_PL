{
  "nbformat": 4,
  "nbformat_minor": 0,
  "metadata": {
    "colab": {
      "provenance": []
    },
    "kernelspec": {
      "name": "python3",
      "display_name": "Python 3"
    },
    "language_info": {
      "name": "python"
    }
  },
  "cells": [
    {
      "cell_type": "code",
      "execution_count": null,
      "metadata": {
        "id": "JrCMxCf2eK5m"
      },
      "outputs": [],
      "source": [
        "import numpy as np\n",
        "from scipy.linalg import svd,qr"
      ]
    },
    {
      "cell_type": "code",
      "source": [
        "# define the matrix\n",
        "A = np.array([[1, -2, 3, -3], [2, -4, 9, -2], [-3, 6, -9, 9]])\n",
        "np.set_printoptions(precision=3, suppress=True)\n",
        "# calculation of svd matrix\n",
        "u, s, vh = svd(A)\n",
        "# Display the results\n",
        "print(\"Matrix A:\")\n",
        "print(A)\n",
        "print(\"\\nLeft Singular Vector Matrix u:\")\n",
        "print(u)\n",
        "print(\"\\nSingular Values (s):\")\n",
        "print(s)\n",
        "print(\"\\nConjugate Transpose of Right Singular Vector Matrix (vh):\")\n",
        "print(vh)\n",
        "print(\"The matrix ranK of A is : \",np.linalg.matrix_rank(A))\n",
        "# Extract the basis of the range space from the left singular vectors (u)\n",
        "#basis_range_space = u[:, :np.count_nonzero(s)]\n",
        "#np.count_nonzero(s) calculates the number of non-zero singular values in the vector s.\n",
        "#Since the basis of the range space consists of the columns of u corresponding to non-zero singular values, this count gives you the number of columns you need to extract.\n",
        "basis_range_space = []\n",
        "for i in range(len(s)):\n",
        "    if s[i]!=0:\n",
        "        basis_range_space.append(u[:, i])\n",
        "\n",
        "basis_range_space = np.column_stack(basis_range_space)\n",
        "print(\"\\nBasis of Range Space:\")\n",
        "print(basis_range_space)\n",
        "print('\\n Basis of range space of matrix A using qr decomposition :')\n",
        "# calculation of qr matrix\n",
        "u, s = qr(A)\n",
        "# Display the results\n",
        "print(\"Matrix A:\")\n",
        "print(A)\n",
        "print(\"\\nLeft Singular Vector Matrix u:\")\n",
        "print(u)\n",
        "print(\"\\nSingular Values (s):\")\n",
        "print(s)\n",
        "range_space_basis = u\n",
        "print('\\n range_space_basis:')\n",
        "print(range_space_basis)\n",
        "\n",
        "\n"
      ],
      "metadata": {
        "id": "ax9GaL39fw9Y",
        "colab": {
          "base_uri": "https://localhost:8080/"
        },
        "outputId": "cdad3ec8-851d-4385-e5b0-7201ebf46852"
      },
      "execution_count": null,
      "outputs": [
        {
          "output_type": "stream",
          "name": "stdout",
          "text": [
            "Matrix A:\n",
            "[[ 1 -2  3 -3]\n",
            " [ 2 -4  9 -2]\n",
            " [-3  6 -9  9]]\n",
            "\n",
            "Left Singular Vector Matrix u:\n",
            "[[ 0.266  0.171  0.949]\n",
            " [ 0.54  -0.842 -0.   ]\n",
            " [-0.799 -0.512  0.316]]\n",
            "\n",
            "Singular Values (s):\n",
            "[17.809  4.224  0.   ]\n",
            "\n",
            "Conjugate Transpose of Right Singular Vector Matrix (vh):\n",
            "[[ 0.21  -0.42   0.721 -0.509]\n",
            " [ 0.005 -0.011 -0.582 -0.813]\n",
            " [-0.242 -0.897 -0.296  0.222]\n",
            " [ 0.947 -0.136 -0.232  0.174]]\n",
            "The matrix ranK of A is :  2\n",
            "\n",
            "Basis of Range Space:\n",
            "[[ 0.266  0.171  0.949]\n",
            " [ 0.54  -0.842 -0.   ]\n",
            " [-0.799 -0.512  0.316]]\n",
            "\n",
            " Basis of range space of matrix A using qr decomposition :\n",
            "Matrix A:\n",
            "[[ 1 -2  3 -3]\n",
            " [ 2 -4  9 -2]\n",
            " [-3  6 -9  9]]\n",
            "\n",
            "Left Singular Vector Matrix u:\n",
            "[[-0.267  0.956 -0.12 ]\n",
            " [-0.535 -0.044  0.844]\n",
            " [ 0.802  0.289  0.523]]\n",
            "\n",
            "Singular Values (s):\n",
            "[[ -3.742   7.483 -12.829   9.087]\n",
            " [  0.     -0.     -0.132  -0.176]\n",
            " [  0.      0.      2.532   3.376]]\n",
            "\n",
            " range_space_basis:\n",
            "[[-0.267  0.956 -0.12 ]\n",
            " [-0.535 -0.044  0.844]\n",
            " [ 0.802  0.289  0.523]]\n"
          ]
        }
      ]
    },
    {
      "cell_type": "code",
      "source": [
        "import numpy as np\n",
        "\n",
        "# Define the matrix A\n",
        "A = np.array([[1, -2, 3, -3], [2, -4, 9, -2], [-3, 6, -9, 9]])\n",
        "\n",
        "# Perform SVD\n",
        "u, s, vh = np.linalg.svd(A)\n",
        "\n",
        "# Extract the basis of the range space from SVD\n",
        "bases_1 = []\n",
        "for i in range(len(s)):\n",
        "    if s[i] != 0:\n",
        "        bases_1.append(u[:, i])\n",
        "bases_1 = np.column_stack(bases_1)\n",
        "\n",
        "# Calculate the basis of the range space using QR decomposition\n",
        "q, r = np.linalg.qr(A)\n",
        "bases_2 = q\n",
        "# Check if basis1 can be expressed as a linear combination of basis2\n",
        "try:\n",
        "    x = np.linalg.solve(bases_2, bases_1)\n",
        "    is_same_space = True\n",
        "except np.linalg.LinAlgError:\n",
        "    is_same_space = False\n",
        "\n",
        "if is_same_space:\n",
        "    print(\"The spaces spanned by basis1 and basis2 are the same.\")\n",
        "else:\n",
        "    print(\"The spaces spanned by basis1 and basis2 are not the same.\")\n",
        "\n"
      ],
      "metadata": {
        "colab": {
          "base_uri": "https://localhost:8080/"
        },
        "id": "Gnl0n47zBiQ-",
        "outputId": "06727e2c-8c70-4f24-ac04-45fbea4a088e"
      },
      "execution_count": null,
      "outputs": [
        {
          "output_type": "stream",
          "name": "stdout",
          "text": [
            "The spaces spanned by basis1 and basis2 are the same.\n"
          ]
        }
      ]
    },
    {
      "cell_type": "code",
      "source": [
        "import numpy as np\n",
        "from scipy.linalg import svd, qr\n",
        "import timeit\n",
        "\n",
        "# Define the random matrix A of size 500x500\n",
        "A = np.random.rand(500, 500)\n",
        "\n",
        "# Function to perform SVD and measure execution time\n",
        "def svd_timing():\n",
        "    u, s, vh = np.linalg.svd(A)\n",
        "\n",
        "# Function to calculate QR and measure execution time\n",
        "def qr_timing():\n",
        "    u, s = qr(A)\n",
        "\n",
        "# Measure execution time for SVD\n",
        "time_to_solve_svd = timeit.timeit(svd_timing, number=1)\n",
        "print(\"Total time to solve using SVD method:\", time_to_solve_svd)\n",
        "\n",
        "# Measure execution time for QR\n",
        "time_to_solve_qr = timeit.timeit(qr_timing, number=1)\n",
        "print(\"Total time to solve using QR method:\", time_to_solve_qr)\n",
        "\n",
        "if time_to_solve_svd >= time_to_solve_qr:\n",
        "    print(\"Method QR is faster than SVD\")\n",
        "else:\n",
        "    print(\"Method SVD is faster than QR\")\n"
      ],
      "metadata": {
        "colab": {
          "base_uri": "https://localhost:8080/"
        },
        "id": "EH91YdfHY6vz",
        "outputId": "2ce8a2d0-e9fc-4213-82d9-16f42069f480"
      },
      "execution_count": null,
      "outputs": [
        {
          "output_type": "stream",
          "name": "stdout",
          "text": [
            "Total time to solve using SVD method: 0.14668724900002417\n",
            "Total time to solve using QR method: 0.039049193000209925\n",
            "Method QR is faster than SVD\n"
          ]
        }
      ]
    }
  ]
}