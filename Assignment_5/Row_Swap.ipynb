{
  "nbformat": 4,
  "nbformat_minor": 0,
  "metadata": {
    "colab": {
      "provenance": []
    },
    "kernelspec": {
      "name": "python3",
      "display_name": "Python 3"
    },
    "language_info": {
      "name": "python"
    }
  },
  "cells": [
    {
      "cell_type": "code",
      "source": [
        "import numpy as np\n"
      ],
      "metadata": {
        "id": "DHqFxOMnYegP"
      },
      "execution_count": 1,
      "outputs": []
    },
    {
      "cell_type": "code",
      "source": [
        "#Task: to interchange rows i and j of a numpy array A.\n"
      ],
      "metadata": {
        "id": "QapmADkHejnN"
      },
      "execution_count": 2,
      "outputs": []
    },
    {
      "cell_type": "code",
      "execution_count": 3,
      "metadata": {
        "id": "yw817VaAXY4F",
        "colab": {
          "base_uri": "https://localhost:8080/"
        },
        "outputId": "e0d8d0cb-3904-4239-e927-03de9540b570"
      },
      "outputs": [
        {
          "output_type": "stream",
          "name": "stdout",
          "text": [
            "Result before  swaprow follows:\n",
            "[[1. 0. 0.]\n",
            " [0. 1. 0.]\n",
            " [0. 0. 1.]]\n",
            "Result after swaprow follows:\n",
            "[[0. 1. 0.]\n",
            " [0. 1. 0.]\n",
            " [0. 0. 1.]]\n"
          ]
        }
      ],
      "source": [
        "def swaprow(i, j, A): #defination of swaprow taking argumunt i , j and A numpy array\n",
        "  tmp = A[i, :]  #  creating a variable tmp and i stored the ith row of numpy array  in that\n",
        "  A[i, :] = A[j, :] # Here i am storing the j th row in ith row\n",
        "  A[j, :] = tmp # now we stored the tmp in jth row\n",
        "ar_dia=np.eye(3)\n",
        "print('Result before  swaprow follows:',ar_dia,sep='\\n')\n",
        "swaprow(0,1,ar_dia)\n",
        "print('Result after swaprow follows:',ar_dia,sep='\\n')"
      ]
    }
  ]
}