{
  "nbformat": 4,
  "nbformat_minor": 0,
  "metadata": {
    "colab": {
      "provenance": []
    },
    "kernelspec": {
      "name": "python3",
      "display_name": "Python 3"
    },
    "language_info": {
      "name": "python"
    }
  },
  "cells": [
    {
      "cell_type": "code",
      "execution_count": 3,
      "metadata": {
        "id": "42sdcEC6uCmi"
      },
      "outputs": [],
      "source": [
        "import numpy as np"
      ]
    },
    {
      "cell_type": "code",
      "source": [
        "def twice(w): # Definition of function \"twice\" taking an argument 'w' and multiply w by 2\n",
        "  \"\"\"Replace w by 2*w\"\"\"\n",
        "  w *= 2 # just like w=w*2\n"
      ],
      "metadata": {
        "id": "t09Ghzagwjmv"
      },
      "execution_count": 4,
      "outputs": []
    },
    {
      "cell_type": "code",
      "source": [
        "# Case-1 v is numpy array"
      ],
      "metadata": {
        "id": "kAlOjVuVc64M"
      },
      "execution_count": null,
      "outputs": []
    },
    {
      "cell_type": "code",
      "source": [
        "#The id() function in Python is used to get the unique identifier (memory address) of an object."
      ],
      "metadata": {
        "id": "p9c7EDDvfNzz"
      },
      "execution_count": null,
      "outputs": []
    },
    {
      "cell_type": "code",
      "source": [
        "x = \"hello\"\n",
        "print(id(x))"
      ],
      "metadata": {
        "colab": {
          "base_uri": "https://localhost:8080/"
        },
        "id": "gwmZKNznfS2I",
        "outputId": "d96abf8d-f91c-4b39-d5c7-e54e2b16be90"
      },
      "execution_count": 5,
      "outputs": [
        {
          "output_type": "stream",
          "name": "stdout",
          "text": [
            "140612441172336\n"
          ]
        }
      ]
    },
    {
      "cell_type": "code",
      "source": [
        "x = 34\n",
        "print(id(x))"
      ],
      "metadata": {
        "colab": {
          "base_uri": "https://localhost:8080/"
        },
        "id": "Ki6FTj9ifeTv",
        "outputId": "17098b97-529f-4423-c943-6a00cb85460a"
      },
      "execution_count": null,
      "outputs": [
        {
          "output_type": "stream",
          "name": "stdout",
          "text": [
            "133521963058448\n"
          ]
        }
      ]
    },
    {
      "cell_type": "code",
      "source": [
        "# Observation: Every object in Python has a unique ID"
      ],
      "metadata": {
        "id": "k15wOLLLftTX"
      },
      "execution_count": 6,
      "outputs": []
    },
    {
      "cell_type": "code",
      "source": [
        "v = [2, 5, 1] # declaration of list\n",
        "new =twice(v) # calling of function\n",
        "v = np.array([2, 5, 1]) # declaration of numpy array\n",
        "original_id = id(v)\n",
        "print( \"meomery address of numpy array is:\",original_id)\n",
        "print()\n",
        "twice(v)\n",
        "new_id = id(v)\n",
        "print(\"meomery address of numpy array after passing function is:\",new_id)\n",
        "\n",
        "# comparision of meomery address before and after passing the function\n",
        "if original_id == new_id:\n",
        "    print(\" Found:  Address has same before and after passing the function\")\n",
        "else:\n",
        "    print(\" Found:Address has not same before and after passing the function\")\n"
      ],
      "metadata": {
        "colab": {
          "base_uri": "https://localhost:8080/"
        },
        "id": "e8nZqOlTgKg8",
        "outputId": "3f3c46b2-41b6-4298-eb10-057318134e07"
      },
      "execution_count": 7,
      "outputs": [
        {
          "output_type": "stream",
          "name": "stdout",
          "text": [
            "meomery address of numpy array is: 140611961553232\n",
            "\n",
            "meomery address of numpy array after passing function is: 140611961553232\n",
            " Found:  Address has same before and after passing the function\n"
          ]
        }
      ]
    },
    {
      "cell_type": "code",
      "source": [
        "#Case-2 : when v is string"
      ],
      "metadata": {
        "id": "20Xv9aU5cnTT"
      },
      "execution_count": 8,
      "outputs": []
    },
    {
      "cell_type": "code",
      "source": [
        "v = \" hello this is vivek  \"# declaration of string\n",
        "original_id = id(v)\n",
        "print(v)\n",
        "print(\"meomery of string v is :\" ,original_id)\n",
        "y= np.array(v) # declaration of numpy array\n",
        "print(y)\n",
        "new_id = id(y)\n",
        "print( \"meomery address of numpy string is:\", new_id )\n",
        "# Compare memory addresses\n",
        "if original_id == new_id:\n",
        "    print(\" Found:  Both has same  Address \")\n",
        "else:\n",
        "    print(\" Found:Both has not  same  Address\")\n"
      ],
      "metadata": {
        "colab": {
          "base_uri": "https://localhost:8080/"
        },
        "id": "w1uSr5JZjMuk",
        "outputId": "05c527f4-b941-478d-d65d-33f19ce4d351"
      },
      "execution_count": 9,
      "outputs": [
        {
          "output_type": "stream",
          "name": "stdout",
          "text": [
            " hello this is vivek  \n",
            "meomery of string v is : 140611961429712\n",
            " hello this is vivek  \n",
            "meomery address of numpy string is: 140611961553520\n",
            " Found:Both has not  same  Address\n"
          ]
        }
      ]
    }
  ]
}