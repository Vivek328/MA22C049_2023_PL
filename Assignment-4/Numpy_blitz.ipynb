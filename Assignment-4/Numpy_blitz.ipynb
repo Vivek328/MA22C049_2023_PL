{
  "nbformat": 4,
  "nbformat_minor": 0,
  "metadata": {
    "colab": {
      "provenance": []
    },
    "kernelspec": {
      "name": "python3",
      "display_name": "Python 3"
    },
    "language_info": {
      "name": "python"
    }
  },
  "cells": [
    {
      "cell_type": "code",
      "source": [
        "#NumPy, short for \"Numerical Python,\" is a fundamental library in the Python programming language\n",
        "#used for numerical and scientific computing. It provides support for large, multi-dimensional arrays\n",
        "#and matrices, along with a collection of mathematical functions to operate on these arrays"
      ],
      "metadata": {
        "id": "7C0xvQ_qL676"
      },
      "execution_count": 1,
      "outputs": []
    },
    {
      "cell_type": "code",
      "source": [
        "# An Advantages of using Numpy array\n",
        "# consumes less meomery\n",
        "#fast as compare to the python list"
      ],
      "metadata": {
        "id": "QdxiORzdNeDX"
      },
      "execution_count": 2,
      "outputs": []
    },
    {
      "cell_type": "code",
      "source": [
        "# importance of Numpy in Python\n",
        "# wide vairty of mathematical operations on array\n",
        "#It supplies an enormous library of high level mathematical functions that operates on these arrays and matrics\n",
        "# mathematical , logical ,shape manipulation ,sorting ,selecting ,I/O ,discrete Fourier Transformation ,basis linear algebra ,basic statisical\n",
        "#operations,random simulation and much more (use of numpy )"
      ],
      "metadata": {
        "id": "0RNa92BNQyK4"
      },
      "execution_count": 3,
      "outputs": []
    },
    {
      "cell_type": "code",
      "execution_count": 4,
      "metadata": {
        "id": "IX1OmdZ4B4AS"
      },
      "outputs": [],
      "source": [
        "import numpy as np\n",
        "import math"
      ]
    },
    {
      "cell_type": "code",
      "source": [
        "A = [0.1, 1.3, 0.4, 0.5] #  Declaration of list\n",
        "a = np.array(A) #  Create of numpy  array\n",
        "print(a)\n",
        "print(A)\n",
        "print(type(a))\n",
        "print(type(A))\n",
        "%timeit [j**4 for j in range(1,9)]\n",
        "%timeit np.arange(1,9)**4 # we crating a numpy array i using a 'arange' function ,creating a array from starting to ending point"
      ],
      "metadata": {
        "colab": {
          "base_uri": "https://localhost:8080/"
        },
        "id": "hy_u1P7bCPDj",
        "outputId": "b2f676a8-dc47-4b6a-bee2-7902ae973100"
      },
      "execution_count": 6,
      "outputs": [
        {
          "output_type": "stream",
          "name": "stdout",
          "text": [
            "[0.1 1.3 0.4 0.5]\n",
            "[0.1, 1.3, 0.4, 0.5]\n",
            "<class 'numpy.ndarray'>\n",
            "<class 'list'>\n",
            "2.63 µs ± 42.4 ns per loop (mean ± std. dev. of 7 runs, 100000 loops each)\n",
            "2.37 µs ± 38.5 ns per loop (mean ± std. dev. of 7 runs, 100000 loops each)\n"
          ]
        }
      ]
    },
    {
      "cell_type": "code",
      "source": [
        "l=[]\n",
        "for i in range(1,5):\n",
        "   int_1=int(input(\"enter the value:\")) # Asking to users to enter the value\n",
        "   l.append(int_1)\n",
        "print(np.array(l))\n"
      ],
      "metadata": {
        "colab": {
          "base_uri": "https://localhost:8080/"
        },
        "id": "vMn1X9gHZEht",
        "outputId": "d364e8dd-44ba-41b9-ee65-e6f0523135cf"
      },
      "execution_count": 7,
      "outputs": [
        {
          "output_type": "stream",
          "name": "stdout",
          "text": [
            "enter the value:12\n",
            "enter the value:23\n",
            "enter the value:34\n",
            "enter the value:45\n",
            "[12 23 34 45]\n"
          ]
        }
      ]
    },
    {
      "cell_type": "code",
      "source": [
        "a.dtype # a's common element type (A.dtype is undefined!)"
      ],
      "metadata": {
        "colab": {
          "base_uri": "https://localhost:8080/"
        },
        "id": "LVieI-HsCW1e",
        "outputId": "a3c8ad4f-e328-4fc1-f796-b510f3dcfdb5"
      },
      "execution_count": 8,
      "outputs": [
        {
          "output_type": "execute_result",
          "data": {
            "text/plain": [
              "dtype('float64')"
            ]
          },
          "metadata": {},
          "execution_count": 8
        }
      ]
    },
    {
      "cell_type": "code",
      "source": [
        "2*a # numpy array multiply by 2"
      ],
      "metadata": {
        "colab": {
          "base_uri": "https://localhost:8080/"
        },
        "id": "C5AuplodChHn",
        "outputId": "983c9767-ab5b-4a0d-af62-49b629b9062e"
      },
      "execution_count": 9,
      "outputs": [
        {
          "output_type": "execute_result",
          "data": {
            "text/plain": [
              "array([0.2, 2.6, 0.8, 1. ])"
            ]
          },
          "metadata": {},
          "execution_count": 9
        }
      ]
    },
    {
      "cell_type": "code",
      "source": [
        "2*A # array multiply by 2"
      ],
      "metadata": {
        "colab": {
          "base_uri": "https://localhost:8080/"
        },
        "id": "OYXWQAmkClzr",
        "outputId": "89a9069d-23e1-4f2b-c612-b452cd7527d6"
      },
      "execution_count": 11,
      "outputs": [
        {
          "output_type": "execute_result",
          "data": {
            "text/plain": [
              "[0.1, 1.3, 0.4, 0.5, 0.1, 1.3, 0.4, 0.5]"
            ]
          },
          "metadata": {},
          "execution_count": 11
        }
      ]
    },
    {
      "cell_type": "code",
      "source": [
        "n = 100000\n",
        "x = np.linspace(0, 2*np.pi, n)"
      ],
      "metadata": {
        "id": "jQAHEy4MCuK5"
      },
      "execution_count": 21,
      "outputs": []
    },
    {
      "cell_type": "code",
      "source": [
        "# list comprehension\n",
        "%timeit y = [math.sin(x[i]) * math.exp(-x[i]) for i in range(n)]\n",
        "# use numpy ufuncs\n",
        "%timeit y = np.sin(x) * np.exp(-x)"
      ],
      "metadata": {
        "colab": {
          "base_uri": "https://localhost:8080/"
        },
        "id": "j8vyp69nCzUF",
        "outputId": "40b29289-dda9-466a-fa83-269d48993cad"
      },
      "execution_count": 22,
      "outputs": [
        {
          "output_type": "stream",
          "name": "stdout",
          "text": [
            "54.4 ms ± 728 µs per loop (mean ± std. dev. of 7 runs, 10 loops each)\n",
            "2.59 ms ± 73.7 µs per loop (mean ± std. dev. of 7 runs, 100 loops each)\n"
          ]
        }
      ]
    },
    {
      "cell_type": "code",
      "source": [
        "def f(v): # apply f to one scalar value v\n",
        "    return math.sin(v) * math.exp(-v)"
      ],
      "metadata": {
        "id": "h0wvrWg0C7kq"
      },
      "execution_count": 23,
      "outputs": []
    },
    {
      "cell_type": "code",
      "source": [
        "vectorizedf = map(f, x) # apply same f to a vector of values x"
      ],
      "metadata": {
        "id": "zKRv_qb5DGFc"
      },
      "execution_count": 24,
      "outputs": []
    },
    {
      "cell_type": "code",
      "source": [
        "F = np.vectorize(f) # F can be applied to a array x"
      ],
      "metadata": {
        "id": "FQdDP5gNDMcc"
      },
      "execution_count": 25,
      "outputs": []
    },
    {
      "cell_type": "code",
      "source": [
        "# use map\n",
        "%timeit y = list(map(f, x))\n",
        "# use numpy's vectorize\n",
        "%timeit y = F(x)\n",
        "# use numpy's ufunc\n",
        "%timeit y = np.sin(x) * np.exp(-x)"
      ],
      "metadata": {
        "colab": {
          "base_uri": "https://localhost:8080/"
        },
        "id": "ETwQUXZiDTLp",
        "outputId": "e1b30579-8224-493b-ed4f-3c87f2945ce6"
      },
      "execution_count": 26,
      "outputs": [
        {
          "output_type": "stream",
          "name": "stdout",
          "text": [
            "38 ms ± 776 µs per loop (mean ± std. dev. of 7 runs, 10 loops each)\n",
            "36.2 ms ± 777 µs per loop (mean ± std. dev. of 7 runs, 10 loops each)\n",
            "2.8 ms ± 538 µs per loop (mean ± std. dev. of 7 runs, 100 loops each)\n"
          ]
        }
      ]
    },
    {
      "cell_type": "code",
      "source": [
        "%timeit for x in range(1000000): x**3\n",
        "%timeit for x in np.arange(1000000): x**3"
      ],
      "metadata": {
        "colab": {
          "base_uri": "https://localhost:8080/"
        },
        "id": "vY_t7ReBDcn1",
        "outputId": "7ee4d80f-1bed-4607-9eae-6e45438114f6"
      },
      "execution_count": 27,
      "outputs": [
        {
          "output_type": "stream",
          "name": "stdout",
          "text": [
            "331 ms ± 4.08 ms per loop (mean ± std. dev. of 7 runs, 1 loop each)\n",
            "154 ms ± 45.3 ms per loop (mean ± std. dev. of 7 runs, 10 loops each)\n"
          ]
        }
      ]
    },
    {
      "cell_type": "code",
      "source": [
        "a = np.random.randint(0,9,5) # taking a random  5-elements array between 0 to 9\n",
        "a\n"
      ],
      "metadata": {
        "colab": {
          "base_uri": "https://localhost:8080/"
        },
        "id": "9Fl2yhl3DoC1",
        "outputId": "f06892df-692c-42c6-c8e1-889fe6754584"
      },
      "execution_count": 29,
      "outputs": [
        {
          "output_type": "execute_result",
          "data": {
            "text/plain": [
              "array([1, 5, 2, 5, 3])"
            ]
          },
          "metadata": {},
          "execution_count": 29
        }
      ]
    },
    {
      "cell_type": "code",
      "source": [
        "a[::]"
      ],
      "metadata": {
        "colab": {
          "base_uri": "https://localhost:8080/"
        },
        "id": "nOGHkbulD7MJ",
        "outputId": "17668b81-cdde-48a0-a24d-df613daf64c8"
      },
      "execution_count": 35,
      "outputs": [
        {
          "output_type": "execute_result",
          "data": {
            "text/plain": [
              "array([1, 5, 2, 5, 3])"
            ]
          },
          "metadata": {},
          "execution_count": 35
        }
      ]
    },
    {
      "cell_type": "code",
      "source": [
        "a[-3:]  # it is sub_array of 'a' which copy the element from \"a\" from starting index 3 to last"
      ],
      "metadata": {
        "colab": {
          "base_uri": "https://localhost:8080/"
        },
        "id": "cL6Iq3JfEDqf",
        "outputId": "352586f7-8cde-4bf6-aed2-bf05048847a4"
      },
      "execution_count": 34,
      "outputs": [
        {
          "output_type": "execute_result",
          "data": {
            "text/plain": [
              "array([2, 5, 3])"
            ]
          },
          "metadata": {},
          "execution_count": 34
        }
      ]
    },
    {
      "cell_type": "code",
      "source": [
        "a[-1], a[len(a)-1] # a[-1], a[len(a)-1] to use exteact last element of any array"
      ],
      "metadata": {
        "colab": {
          "base_uri": "https://localhost:8080/"
        },
        "id": "fDT3ekrTEMEk",
        "outputId": "f512802f-e844-4eb9-f153-852db8bf9838"
      },
      "execution_count": 37,
      "outputs": [
        {
          "output_type": "execute_result",
          "data": {
            "text/plain": [
              "(3, 3)"
            ]
          },
          "metadata": {},
          "execution_count": 37
        }
      ]
    },
    {
      "cell_type": "code",
      "source": [
        "a[-4:-1:2]"
      ],
      "metadata": {
        "colab": {
          "base_uri": "https://localhost:8080/"
        },
        "id": "OWwRBDvhEOxK",
        "outputId": "60b6513d-1847-46f8-fbf8-28b70162ebf2"
      },
      "execution_count": 38,
      "outputs": [
        {
          "output_type": "execute_result",
          "data": {
            "text/plain": [
              "array([5, 5])"
            ]
          },
          "metadata": {},
          "execution_count": 38
        }
      ]
    },
    {
      "cell_type": "code",
      "source": [
        "slice = range(-4,-1,2) # Think of b:e:s specification as a range.\n",
        "a[-4:-1:2], a[slice] # In older versions, a[slice] may not work\n",
        "# but will work with slice=arange(-4,-1,2).\n"
      ],
      "metadata": {
        "colab": {
          "base_uri": "https://localhost:8080/"
        },
        "id": "iXq0p7KjEfiL",
        "outputId": "706cc1fc-bb34-4487-923c-8e1c2ffdb28d"
      },
      "execution_count": 39,
      "outputs": [
        {
          "output_type": "execute_result",
          "data": {
            "text/plain": [
              "(array([5, 5]), array([5, 5]))"
            ]
          },
          "metadata": {},
          "execution_count": 39
        }
      ]
    },
    {
      "cell_type": "code",
      "source": [
        "a = np.array([1,2,3])\n",
        "b = np.array([3,4,5,6])"
      ],
      "metadata": {
        "id": "ZmWwicqOFnq6"
      },
      "execution_count": 40,
      "outputs": []
    },
    {
      "cell_type": "code",
      "source": [
        "a = b\n",
        "a[0] = 1\n",
        "a"
      ],
      "metadata": {
        "colab": {
          "base_uri": "https://localhost:8080/"
        },
        "id": "KahibmgbFrWY",
        "outputId": "057c2237-4b16-4c6b-9beb-855defeb9bcb"
      },
      "execution_count": 41,
      "outputs": [
        {
          "output_type": "execute_result",
          "data": {
            "text/plain": [
              "array([1, 4, 5, 6])"
            ]
          },
          "metadata": {},
          "execution_count": 41
        }
      ]
    },
    {
      "cell_type": "code",
      "source": [
        "b"
      ],
      "metadata": {
        "colab": {
          "base_uri": "https://localhost:8080/"
        },
        "id": "QTbBr-iZF0jj",
        "outputId": "61893ed7-2359-4d6f-a1cb-85f710a86461"
      },
      "execution_count": 42,
      "outputs": [
        {
          "output_type": "execute_result",
          "data": {
            "text/plain": [
              "array([1, 4, 5, 6])"
            ]
          },
          "metadata": {},
          "execution_count": 42
        }
      ]
    },
    {
      "cell_type": "code",
      "source": [
        "a = np.array([1,2,3]) # This is Object1 and \"a\" is a name for it.\n",
        "b = np.array([3,4,5,6]) # This is Object2 and \"b\" is a name for it"
      ],
      "metadata": {
        "id": "rrNOTNQTF3k1"
      },
      "execution_count": 43,
      "outputs": []
    },
    {
      "cell_type": "code",
      "source": [
        "id(a), id(b)"
      ],
      "metadata": {
        "colab": {
          "base_uri": "https://localhost:8080/"
        },
        "id": "AFtKlr1XGDME",
        "outputId": "41f50248-7f20-4c69-a132-1f3222991306"
      },
      "execution_count": 44,
      "outputs": [
        {
          "output_type": "execute_result",
          "data": {
            "text/plain": [
              "(140083299972368, 140083299973328)"
            ]
          },
          "metadata": {},
          "execution_count": 44
        }
      ]
    },
    {
      "cell_type": "code",
      "source": [
        "a = b # a is no longer a name for Object1, it is now a name for Object2."
      ],
      "metadata": {
        "id": "TaUSxtG4GLu6"
      },
      "execution_count": 45,
      "outputs": []
    },
    {
      "cell_type": "code",
      "source": [
        "id(a), id(b)"
      ],
      "metadata": {
        "colab": {
          "base_uri": "https://localhost:8080/"
        },
        "id": "c1jNJ8FbGQkt",
        "outputId": "b5f5ee0a-5057-4291-ee2a-53bf68b62f43"
      },
      "execution_count": 46,
      "outputs": [
        {
          "output_type": "execute_result",
          "data": {
            "text/plain": [
              "(140083299973328, 140083299973328)"
            ]
          },
          "metadata": {},
          "execution_count": 46
        }
      ]
    },
    {
      "cell_type": "code",
      "source": [
        "a = np.array([1,2,3]) # Object1\n",
        "b = np.array([3,4,5,6]) # Object2\n",
        "a = b.copy() # Copies Object2, and binds a to the copy\n",
        "a[0] = 2 # Only the copied (new) object is changed"
      ],
      "metadata": {
        "id": "lRTfqXnEGZJ3"
      },
      "execution_count": 47,
      "outputs": []
    },
    {
      "cell_type": "code",
      "source": [
        "a, b"
      ],
      "metadata": {
        "colab": {
          "base_uri": "https://localhost:8080/"
        },
        "id": "DRzJlmkNGhF9",
        "outputId": "c319b6d4-8f92-40a8-b2df-4e4c0e2eb464"
      },
      "execution_count": 48,
      "outputs": [
        {
          "output_type": "execute_result",
          "data": {
            "text/plain": [
              "(array([2, 4, 5, 6]), array([3, 4, 5, 6]))"
            ]
          },
          "metadata": {},
          "execution_count": 48
        }
      ]
    },
    {
      "cell_type": "code",
      "source": [
        "Amat = [[1,2],\n",
        "[3,4]]\n",
        "Amat\n"
      ],
      "metadata": {
        "id": "wUQ0V-BLGjnR",
        "colab": {
          "base_uri": "https://localhost:8080/"
        },
        "outputId": "513e15c6-57d0-48d5-cf5c-28dd7a34c199"
      },
      "execution_count": 49,
      "outputs": [
        {
          "output_type": "execute_result",
          "data": {
            "text/plain": [
              "[[1, 2], [3, 4]]"
            ]
          },
          "metadata": {},
          "execution_count": 49
        }
      ]
    },
    {
      "cell_type": "code",
      "source": [
        "amat = np.array(Amat)\n",
        "amat\n"
      ],
      "metadata": {
        "id": "6YlFWxvNGoqr"
      },
      "execution_count": null,
      "outputs": []
    },
    {
      "cell_type": "code",
      "source": [
        "type(A), type(a)"
      ],
      "metadata": {
        "colab": {
          "base_uri": "https://localhost:8080/"
        },
        "id": "70MPilZvG5y_",
        "outputId": "c8d97997-8771-4610-9265-29e913d25abc"
      },
      "execution_count": 51,
      "outputs": [
        {
          "output_type": "execute_result",
          "data": {
            "text/plain": [
              "(list, numpy.ndarray)"
            ]
          },
          "metadata": {},
          "execution_count": 51
        }
      ]
    },
    {
      "cell_type": "code",
      "source": [
        "2*Amat"
      ],
      "metadata": {
        "colab": {
          "base_uri": "https://localhost:8080/"
        },
        "id": "IPwlKHTUHFy3",
        "outputId": "b06745d5-a770-4a52-cebd-a42f326cdb49"
      },
      "execution_count": 52,
      "outputs": [
        {
          "output_type": "execute_result",
          "data": {
            "text/plain": [
              "[[1, 2], [3, 4], [1, 2], [3, 4]]"
            ]
          },
          "metadata": {},
          "execution_count": 52
        }
      ]
    },
    {
      "cell_type": "code",
      "source": [
        "amat"
      ],
      "metadata": {
        "colab": {
          "base_uri": "https://localhost:8080/"
        },
        "id": "96bHGigLHLih",
        "outputId": "3e9cb8fa-f85a-423e-b1ac-72bbbd5a9dbb"
      },
      "execution_count": 53,
      "outputs": [
        {
          "output_type": "execute_result",
          "data": {
            "text/plain": [
              "array([[1, 2],\n",
              "       [3, 4]])"
            ]
          },
          "metadata": {},
          "execution_count": 53
        }
      ]
    },
    {
      "cell_type": "code",
      "source": [
        "amat * amat"
      ],
      "metadata": {
        "colab": {
          "base_uri": "https://localhost:8080/"
        },
        "id": "Eh5JwlWGHQ-H",
        "outputId": "c4bcc435-f619-4071-b184-15ba60c70aa5"
      },
      "execution_count": 54,
      "outputs": [
        {
          "output_type": "execute_result",
          "data": {
            "text/plain": [
              "array([[ 1,  4],\n",
              "       [ 9, 16]])"
            ]
          },
          "metadata": {},
          "execution_count": 54
        }
      ]
    },
    {
      "cell_type": "code",
      "source": [
        "import sys\n",
        "print(sys.version) # check if you have version >= 3.5 before trying @"
      ],
      "metadata": {
        "colab": {
          "base_uri": "https://localhost:8080/"
        },
        "id": "zmWN7UtqHZNw",
        "outputId": "58128015-dc93-4a0a-cd6c-331df72bbede"
      },
      "execution_count": 55,
      "outputs": [
        {
          "output_type": "stream",
          "name": "stdout",
          "text": [
            "3.10.12 (main, Jun 11 2023, 05:26:28) [GCC 11.4.0]\n"
          ]
        }
      ]
    },
    {
      "cell_type": "code",
      "source": [
        " amat @ amat"
      ],
      "metadata": {
        "colab": {
          "base_uri": "https://localhost:8080/"
        },
        "id": "FUO6hcA8Hf4y",
        "outputId": "a83e20ec-13fd-4dce-c0fa-f7d2f71061d7"
      },
      "execution_count": 56,
      "outputs": [
        {
          "output_type": "execute_result",
          "data": {
            "text/plain": [
              "array([[ 7, 10],\n",
              "       [15, 22]])"
            ]
          },
          "metadata": {},
          "execution_count": 56
        }
      ]
    },
    {
      "cell_type": "code",
      "source": [
        "np.dot(amat, amat) # dot(A,B) = matrix A multiplied by matrix B"
      ],
      "metadata": {
        "colab": {
          "base_uri": "https://localhost:8080/"
        },
        "id": "Ncwxug33Hs2w",
        "outputId": "ff97e33e-1072-43b8-89bd-6cf0fae2cbb0"
      },
      "execution_count": 57,
      "outputs": [
        {
          "output_type": "execute_result",
          "data": {
            "text/plain": [
              "array([[ 7, 10],\n",
              "       [15, 22]])"
            ]
          },
          "metadata": {},
          "execution_count": 57
        }
      ]
    },
    {
      "cell_type": "code",
      "source": [
        "\n",
        "amat.dot(amat)\n"
      ],
      "metadata": {
        "colab": {
          "base_uri": "https://localhost:8080/"
        },
        "id": "Al0ujtwXH2PW",
        "outputId": "5a20f735-5f41-450e-889a-f7a59c192b5e"
      },
      "execution_count": 59,
      "outputs": [
        {
          "output_type": "execute_result",
          "data": {
            "text/plain": [
              "array([[ 7, 10],\n",
              "       [15, 22]])"
            ]
          },
          "metadata": {},
          "execution_count": 59
        }
      ]
    },
    {
      "cell_type": "code",
      "source": [
        "amat**2 # not equal to matrix power !!"
      ],
      "metadata": {
        "colab": {
          "base_uri": "https://localhost:8080/"
        },
        "id": "SzMvRf_SIAHk",
        "outputId": "bffd877c-f261-48ac-e906-221742074247"
      },
      "execution_count": 60,
      "outputs": [
        {
          "output_type": "execute_result",
          "data": {
            "text/plain": [
              "array([[ 1,  4],\n",
              "       [ 9, 16]])"
            ]
          },
          "metadata": {},
          "execution_count": 60
        }
      ]
    },
    {
      "cell_type": "code",
      "source": [
        "np.linalg.matrix_power(amat, 2)#Numpy provides a matrix_power routine to compute Mn for matrices M (and integers n)"
      ],
      "metadata": {
        "colab": {
          "base_uri": "https://localhost:8080/"
        },
        "id": "2mMslQeEIImT",
        "outputId": "90c6cf6d-6a03-4dd8-a3f8-03dc26fe02b5"
      },
      "execution_count": 61,
      "outputs": [
        {
          "output_type": "execute_result",
          "data": {
            "text/plain": [
              "array([[ 7, 10],\n",
              "       [15, 22]])"
            ]
          },
          "metadata": {},
          "execution_count": 61
        }
      ]
    },
    {
      "cell_type": "code",
      "source": [
        "#how to slice 2D array\n",
        "A = np.array([[7, 8, 5, 1], [2, 5, 5, 2], [9, 6, 8, 9]])\n",
        "A\n"
      ],
      "metadata": {
        "colab": {
          "base_uri": "https://localhost:8080/"
        },
        "id": "WzB-fyLjIZt3",
        "outputId": "7cdcd814-baaf-4108-de2f-1ce281cd7977"
      },
      "execution_count": 62,
      "outputs": [
        {
          "output_type": "execute_result",
          "data": {
            "text/plain": [
              "array([[7, 8, 5, 1],\n",
              "       [2, 5, 5, 2],\n",
              "       [9, 6, 8, 9]])"
            ]
          },
          "metadata": {},
          "execution_count": 62
        }
      ]
    },
    {
      "cell_type": "code",
      "source": [
        "A[1, :], A[:, 2]"
      ],
      "metadata": {
        "colab": {
          "base_uri": "https://localhost:8080/"
        },
        "id": "76vBH0AFItHQ",
        "outputId": "c2c41578-cb75-4d82-ed9d-2ff1b71a04f2"
      },
      "execution_count": 63,
      "outputs": [
        {
          "output_type": "execute_result",
          "data": {
            "text/plain": [
              "(array([2, 5, 5, 2]), array([5, 5, 8]))"
            ]
          },
          "metadata": {},
          "execution_count": 63
        }
      ]
    },
    {
      "cell_type": "code",
      "source": [
        "A[:3:2, :3]"
      ],
      "metadata": {
        "colab": {
          "base_uri": "https://localhost:8080/"
        },
        "id": "bFtqCKggIy3O",
        "outputId": "29626fba-1828-4ece-ed0f-65524f40141e"
      },
      "execution_count": 64,
      "outputs": [
        {
          "output_type": "execute_result",
          "data": {
            "text/plain": [
              "array([[7, 8, 5],\n",
              "       [9, 6, 8]])"
            ]
          },
          "metadata": {},
          "execution_count": 64
        }
      ]
    },
    {
      "cell_type": "code",
      "source": [
        "#How are 2D arrays stored?\n",
        "M = np.array([[7, 8, 5, 1], [2, 5, 5, 2], [9, 6, 8, 9]])\n",
        "M"
      ],
      "metadata": {
        "id": "Eb5vYBYCI_8d"
      },
      "execution_count": null,
      "outputs": []
    },
    {
      "cell_type": "code",
      "source": [
        "M.reshape(2, 6) # Just a different view of the same data"
      ],
      "metadata": {
        "colab": {
          "base_uri": "https://localhost:8080/"
        },
        "id": "QDFw85akJPqw",
        "outputId": "e0f2e887-6460-4e87-f446-c0886e235148"
      },
      "execution_count": 66,
      "outputs": [
        {
          "output_type": "execute_result",
          "data": {
            "text/plain": [
              "array([[7, 8, 5, 1, 2, 5],\n",
              "       [5, 2, 9, 6, 8, 9]])"
            ]
          },
          "metadata": {},
          "execution_count": 66
        }
      ]
    },
    {
      "cell_type": "code",
      "source": [
        "M.ravel() # The 1D data of M in row-major ordering"
      ],
      "metadata": {
        "colab": {
          "base_uri": "https://localhost:8080/"
        },
        "id": "WgDIkJQuJW_I",
        "outputId": "584c8847-a9a3-4f14-ceeb-d544a198abca"
      },
      "execution_count": null,
      "outputs": [
        {
          "output_type": "execute_result",
          "data": {
            "text/plain": [
              "array([7, 8, 5, 1, 2, 5, 5, 2, 9, 6, 8, 9])"
            ]
          },
          "metadata": {},
          "execution_count": 53
        }
      ]
    },
    {
      "cell_type": "code",
      "source": [
        "A = np.array(M, order='F')\n",
        "A"
      ],
      "metadata": {
        "colab": {
          "base_uri": "https://localhost:8080/"
        },
        "id": "BEW7pQXEJcHj",
        "outputId": "d0a32a17-2c65-40db-ee25-3e48d3e8dfd8"
      },
      "execution_count": 67,
      "outputs": [
        {
          "output_type": "execute_result",
          "data": {
            "text/plain": [
              "array([[7, 8, 5, 1],\n",
              "       [2, 5, 5, 2],\n",
              "       [9, 6, 8, 9]])"
            ]
          },
          "metadata": {},
          "execution_count": 67
        }
      ]
    },
    {
      "cell_type": "code",
      "source": [
        "A.ravel(order='A') # A's internal ordering is Fortran style"
      ],
      "metadata": {
        "colab": {
          "base_uri": "https://localhost:8080/"
        },
        "id": "Ar1Yzf7QJh_I",
        "outputId": "da603fbc-26fe-4bca-8290-38e46f98964a"
      },
      "execution_count": 68,
      "outputs": [
        {
          "output_type": "execute_result",
          "data": {
            "text/plain": [
              "array([7, 2, 9, 8, 5, 6, 5, 5, 8, 1, 2, 9])"
            ]
          },
          "metadata": {},
          "execution_count": 68
        }
      ]
    },
    {
      "cell_type": "code",
      "source": [
        "M.ravel(order='A') # M's internal ordering is default C-style"
      ],
      "metadata": {
        "colab": {
          "base_uri": "https://localhost:8080/"
        },
        "id": "RSwaKDaAJnbc",
        "outputId": "8eb9c3c5-6dbf-4783-dc86-87ca3c4fd125"
      },
      "execution_count": 69,
      "outputs": [
        {
          "output_type": "execute_result",
          "data": {
            "text/plain": [
              "array([7, 8, 5, 1, 2, 5, 5, 2, 9, 6, 8, 9])"
            ]
          },
          "metadata": {},
          "execution_count": 69
        }
      ]
    },
    {
      "cell_type": "code",
      "source": [
        "#Can I put booleans as indices?\n",
        "#If a numpy array is given indices that are boolean (instead of integers), then rows or\n",
        "#columns are selected based on True indices. This is called masking. It is very useful\n",
        "#together with vectorized conditionals.\n",
        "N = np.arange(25).reshape(5,5)\n",
        "N"
      ],
      "metadata": {
        "colab": {
          "base_uri": "https://localhost:8080/"
        },
        "id": "answ7jhxJyaJ",
        "outputId": "c217d640-0952-4161-ddae-58d72602f76b"
      },
      "execution_count": 72,
      "outputs": [
        {
          "output_type": "execute_result",
          "data": {
            "text/plain": [
              "array([[ 0,  1,  2,  3,  4],\n",
              "       [ 5,  6,  7,  8,  9],\n",
              "       [10, 11, 12, 13, 14],\n",
              "       [15, 16, 17, 18, 19],\n",
              "       [20, 21, 22, 23, 24]])"
            ]
          },
          "metadata": {},
          "execution_count": 72
        }
      ]
    },
    {
      "cell_type": "code",
      "source": [
        "mask = (N>7) & (N<18)\n",
        "mask"
      ],
      "metadata": {
        "colab": {
          "base_uri": "https://localhost:8080/"
        },
        "id": "ahdtrb9CJ-K8",
        "outputId": "93919594-4c84-4d4a-fb65-f735d0989705"
      },
      "execution_count": 73,
      "outputs": [
        {
          "output_type": "execute_result",
          "data": {
            "text/plain": [
              "array([[False, False, False, False, False],\n",
              "       [False, False, False,  True,  True],\n",
              "       [ True,  True,  True,  True,  True],\n",
              "       [ True,  True,  True, False, False],\n",
              "       [False, False, False, False, False]])"
            ]
          },
          "metadata": {},
          "execution_count": 73
        }
      ]
    },
    {
      "cell_type": "code",
      "source": [
        "N[mask]"
      ],
      "metadata": {
        "colab": {
          "base_uri": "https://localhost:8080/"
        },
        "id": "f-Rg3lJ6KIwy",
        "outputId": "399463cc-9dd4-41b3-dc90-95fe36b163a7"
      },
      "execution_count": 74,
      "outputs": [
        {
          "output_type": "execute_result",
          "data": {
            "text/plain": [
              "array([ 8,  9, 10, 11, 12, 13, 14, 15, 16, 17])"
            ]
          },
          "metadata": {},
          "execution_count": 74
        }
      ]
    },
    {
      "cell_type": "code",
      "source": [
        "i, j = np.where(mask) # Returns i and j indices where mask[i,j] is True.\n",
        "i, j # 1st True value of mask is at i[0],j[0],\n",
        "# 2nd True value of mask is at i[1],j[1], etc."
      ],
      "metadata": {
        "colab": {
          "base_uri": "https://localhost:8080/"
        },
        "id": "3A4i0R0TKOpP",
        "outputId": "3ef0291e-a28a-4966-aa6d-dbf5bf38813c"
      },
      "execution_count": 75,
      "outputs": [
        {
          "output_type": "execute_result",
          "data": {
            "text/plain": [
              "(array([1, 1, 2, 2, 2, 2, 2, 3, 3, 3]), array([3, 4, 0, 1, 2, 3, 4, 0, 1, 2]))"
            ]
          },
          "metadata": {},
          "execution_count": 75
        }
      ]
    },
    {
      "cell_type": "code",
      "source": [
        "#How do I represent higher order tensors?\n",
        "#Numpy can work with general-dimensional arrays, not just 1D or 2D arrays.\n",
        "# For an n\u0002dimensional array, the shape of a numpy array is a tuple of n integers giving the sizes in\n",
        "#each dimension."
      ],
      "metadata": {
        "id": "1GFOEPLiKUiB"
      },
      "execution_count": 76,
      "outputs": []
    },
    {
      "cell_type": "code",
      "source": [
        "data = np.random.randint(low=0, high=10, size=30) # 1D array"
      ],
      "metadata": {
        "id": "IZe8lQDUKjwk"
      },
      "execution_count": 77,
      "outputs": []
    },
    {
      "cell_type": "code",
      "source": [
        "T2 = np.reshape(data, (6, 5)) # 2D array\n",
        "T2\n"
      ],
      "metadata": {
        "colab": {
          "base_uri": "https://localhost:8080/"
        },
        "id": "8S5t6uycKq20",
        "outputId": "be82f1a7-799c-4c56-def2-d3417437903c"
      },
      "execution_count": 78,
      "outputs": [
        {
          "output_type": "execute_result",
          "data": {
            "text/plain": [
              "array([[8, 7, 5, 2, 3],\n",
              "       [3, 2, 6, 6, 9],\n",
              "       [3, 5, 6, 5, 5],\n",
              "       [0, 0, 5, 3, 4],\n",
              "       [9, 6, 1, 1, 6],\n",
              "       [0, 1, 0, 1, 9]])"
            ]
          },
          "metadata": {},
          "execution_count": 78
        }
      ]
    },
    {
      "cell_type": "code",
      "source": [
        "T3 = np.reshape(data, (2, 3, 5)) # 3D array\n",
        "T3"
      ],
      "metadata": {
        "colab": {
          "base_uri": "https://localhost:8080/"
        },
        "id": "5gqYOuFNKx5g",
        "outputId": "47775653-5f04-4dc2-b811-a30827a09a70"
      },
      "execution_count": 79,
      "outputs": [
        {
          "output_type": "execute_result",
          "data": {
            "text/plain": [
              "array([[[8, 7, 5, 2, 3],\n",
              "        [3, 2, 6, 6, 9],\n",
              "        [3, 5, 6, 5, 5]],\n",
              "\n",
              "       [[0, 0, 5, 3, 4],\n",
              "        [9, 6, 1, 1, 6],\n",
              "        [0, 1, 0, 1, 9]]])"
            ]
          },
          "metadata": {},
          "execution_count": 79
        }
      ]
    },
    {
      "cell_type": "code",
      "source": [
        "print('T3 is a ', T3.ndim, 'dimensional array of shape ', T3.shape)\n",
        "print('T2 is a ', T2.ndim, 'dimensional array of shape ', T2.shape)\n",
        "print('data is a ', data.ndim, 'dimensional array of shape ', data.shape)"
      ],
      "metadata": {
        "colab": {
          "base_uri": "https://localhost:8080/"
        },
        "id": "WPrHpPF2K56w",
        "outputId": "1f279cad-7255-48b6-f250-b370c94663ee"
      },
      "execution_count": 80,
      "outputs": [
        {
          "output_type": "stream",
          "name": "stdout",
          "text": [
            "T3 is a  3 dimensional array of shape  (2, 3, 5)\n",
            "T2 is a  2 dimensional array of shape  (6, 5)\n",
            "data is a  1 dimensional array of shape  (30,)\n"
          ]
        }
      ]
    }
  ]
}