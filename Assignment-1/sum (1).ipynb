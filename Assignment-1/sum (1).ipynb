{
  "nbformat": 4,
  "nbformat_minor": 0,
  "metadata": {
    "colab": {
      "provenance": [],
      "toc_visible": true
    },
    "kernelspec": {
      "name": "python3",
      "display_name": "Python 3"
    },
    "language_info": {
      "name": "python"
    }
  },
  "cells": [
    {
      "cell_type": "code",
      "execution_count": 6,
      "metadata": {
        "colab": {
          "base_uri": "https://localhost:8080/"
        },
        "id": "YEiGpYUiNlQO",
        "outputId": "b2429004-82f7-48e9-8bcf-f707c609a7ad"
      },
      "outputs": [
        {
          "output_type": "stream",
          "name": "stdout",
          "text": [
            "please inter the value of N= 5\n",
            "Total sum is 15\n"
          ]
        }
      ],
      "source": [
        "N = int(input(\"please inter the value of N= \"))\n",
        "total_sum=0\n",
        "i=1\n",
        "while(i<=N):\n",
        "      total_sum=i+total_sum\n",
        "      i=i+1\n",
        "print(\"Total sum is\",total_sum)\n"
      ]
    },
    {
      "cell_type": "code",
      "source": [
        " #Exercise1: power sum\n",
        "def power_sumint(N,i):\n",
        "    sum=0\n",
        "    for n in range (1 ,N+1):\n",
        "      sum=sum+(n**i)\n",
        "    return sum\n",
        "i=int(input(\"enter value of i\" ))\n",
        "N=int(input(\"enter value of N\" ))\n",
        "sum=power_sumint(N,i)\n",
        "print(\"power sum\",sum)\n",
        "\n",
        "\n"
      ],
      "metadata": {
        "id": "Ift2H_6Bq5wh",
        "colab": {
          "base_uri": "https://localhost:8080/"
        },
        "outputId": "b93649e7-6d28-48f7-eef5-6320db863669"
      },
      "execution_count": 8,
      "outputs": [
        {
          "output_type": "stream",
          "name": "stdout",
          "text": [
            "enter value of i5\n",
            "enter value of N5\n",
            "power sum 4425\n"
          ]
        }
      ]
    }
  ]
}