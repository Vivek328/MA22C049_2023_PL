{
  "nbformat": 4,
  "nbformat_minor": 0,
  "metadata": {
    "colab": {
      "provenance": []
    },
    "kernelspec": {
      "name": "python3",
      "display_name": "Python 3"
    },
    "language_info": {
      "name": "python"
    }
  },
  "cells": [
    {
      "cell_type": "code",
      "execution_count": 12,
      "metadata": {
        "colab": {
          "base_uri": "https://localhost:8080/"
        },
        "id": "A7b5nVC8jnYw",
        "outputId": "67721a74-ee3d-4532-8fd7-71867148097e"
      },
      "outputs": [
        {
          "output_type": "stream",
          "name": "stdout",
          "text": [
            "Requirement already satisfied: gitpython in /usr/local/lib/python3.10/dist-packages (3.1.32)\n",
            "Requirement already satisfied: gitdb<5,>=4.0.1 in /usr/local/lib/python3.10/dist-packages (from gitpython) (4.0.10)\n",
            "Requirement already satisfied: smmap<6,>=3.0.1 in /usr/local/lib/python3.10/dist-packages (from gitdb<5,>=4.0.1->gitpython) (5.0.0)\n"
          ]
        }
      ],
      "source": [
        "!pip install gitpython"
      ]
    },
    {
      "cell_type": "code",
      "source": [
        "from git import Repo"
      ],
      "metadata": {
        "id": "R3nI5aeWkK-2"
      },
      "execution_count": null,
      "outputs": []
    },
    {
      "cell_type": "code",
      "source": [
        "help(Repo.clone_from)"
      ],
      "metadata": {
        "colab": {
          "base_uri": "https://localhost:8080/"
        },
        "id": "nZ3XbGt-kVOT",
        "outputId": "2f1fbbb9-b9b8-4118-a8fb-24133ae84e02"
      },
      "execution_count": null,
      "outputs": [
        {
          "output_type": "stream",
          "name": "stdout",
          "text": [
            "Help on method clone_from in module git.repo.base:\n",
            "\n",
            "clone_from(url: 'PathLike', to_path: 'PathLike', progress: 'Optional[Callable]' = None, env: 'Optional[Mapping[str, str]]' = None, multi_options: 'Optional[List[str]]' = None, allow_unsafe_protocols: 'bool' = False, allow_unsafe_options: 'bool' = False, **kwargs: 'Any') -> \"'Repo'\" method of builtins.type instance\n",
            "    Create a clone from the given URL\n",
            "    \n",
            "    :param url: valid git url, see http://www.kernel.org/pub/software/scm/git/docs/git-clone.html#URLS\n",
            "    :param to_path: Path to which the repository should be cloned to\n",
            "    :param progress: See 'git.remote.Remote.push'.\n",
            "    :param env: Optional dictionary containing the desired environment variables.\n",
            "        Note: Provided variables will be used to update the execution\n",
            "        environment for `git`. If some variable is not specified in `env`\n",
            "        and is defined in `os.environ`, value from `os.environ` will be used.\n",
            "        If you want to unset some variable, consider providing empty string\n",
            "        as its value.\n",
            "    :param multi_options: See ``clone`` method\n",
            "    :param allow_unsafe_protocols: Allow unsafe protocols to be used, like ext\n",
            "    :param allow_unsafe_options: Allow unsafe options to be used, like --upload-pack\n",
            "    :param kwargs: see the ``clone`` method\n",
            "    :return: Repo instance pointing to the cloned directory\n",
            "\n"
          ]
        }
      ]
    },
    {
      "cell_type": "code",
      "source": [
        "help(Repo.__init__)"
      ],
      "metadata": {
        "colab": {
          "base_uri": "https://localhost:8080/"
        },
        "id": "FLchVGuoka32",
        "outputId": "34bd940a-ca59-47a9-dfe9-63e2c78d392a"
      },
      "execution_count": null,
      "outputs": [
        {
          "output_type": "stream",
          "name": "stdout",
          "text": [
            "Help on function __init__ in module git.repo.base:\n",
            "\n",
            "__init__(self, path: 'Optional[PathLike]' = None, odbt: 'Type[LooseObjectDB]' = <class 'git.db.GitCmdObjectDB'>, search_parent_directories: 'bool' = False, expand_vars: 'bool' = True) -> 'None'\n",
            "    Create a new Repo instance\n",
            "    \n",
            "    :param path:\n",
            "        the path to either the root git directory or the bare git repo::\n",
            "    \n",
            "            repo = Repo(\"/Users/mtrier/Development/git-python\")\n",
            "            repo = Repo(\"/Users/mtrier/Development/git-python.git\")\n",
            "            repo = Repo(\"~/Development/git-python.git\")\n",
            "            repo = Repo(\"$REPOSITORIES/Development/git-python.git\")\n",
            "            repo = Repo(\"C:\\Users\\mtrier\\Development\\git-python\\.git\")\n",
            "    \n",
            "        - In *Cygwin*, path may be a `'cygdrive/...'` prefixed path.\n",
            "        - If it evaluates to false, :envvar:`GIT_DIR` is used, and if this also evals to false,\n",
            "          the current-directory is used.\n",
            "    :param odbt:\n",
            "        Object DataBase type - a type which is constructed by providing\n",
            "        the directory containing the database objects, i.e. .git/objects. It will\n",
            "        be used to access all object data\n",
            "    :param search_parent_directories:\n",
            "        if True, all parent directories will be searched for a valid repo as well.\n",
            "    \n",
            "        Please note that this was the default behaviour in older versions of GitPython,\n",
            "        which is considered a bug though.\n",
            "    :raise InvalidGitRepositoryError:\n",
            "    :raise NoSuchPathError:\n",
            "    :return: git.Repo\n",
            "\n"
          ]
        }
      ]
    },
    {
      "cell_type": "code",
      "source": [
        "coursefolder = '/Users/Jay/tmpdir/'"
      ],
      "metadata": {
        "id": "Sb0WOwc2kh9f"
      },
      "execution_count": null,
      "outputs": []
    },
    {
      "cell_type": "code",
      "source": [
        "import os\n",
        "os.path.abspath(coursefolder)"
      ],
      "metadata": {
        "colab": {
          "base_uri": "https://localhost:8080/",
          "height": 35
        },
        "id": "NymB5LQ4knCN",
        "outputId": "cd2f92eb-31d8-4046-c46c-50efff2d8879"
      },
      "execution_count": null,
      "outputs": [
        {
          "output_type": "execute_result",
          "data": {
            "text/plain": [
              "'/Users/Jay/tmpdir'"
            ],
            "application/vnd.google.colaboratory.intrinsic+json": {
              "type": "string"
            }
          },
          "metadata": {},
          "execution_count": 7
        }
      ]
    },
    {
      "cell_type": "code",
      "source": [
        "repodir = os.path.join(os.path.abspath(coursefolder), 'mth271content')\n",
        "repodir # full path name of the subfolder"
      ],
      "metadata": {
        "colab": {
          "base_uri": "https://localhost:8080/",
          "height": 35
        },
        "id": "HA48OQv_kv6G",
        "outputId": "8ef2dc0e-65ee-47c9-f54b-88453e7ba6d5"
      },
      "execution_count": null,
      "outputs": [
        {
          "output_type": "execute_result",
          "data": {
            "text/plain": [
              "'/Users/Jay/tmpdir/mth271content'"
            ],
            "application/vnd.google.colaboratory.intrinsic+json": {
              "type": "string"
            }
          },
          "metadata": {},
          "execution_count": 8
        }
      ]
    },
    {
      "cell_type": "code",
      "source": [
        "os.path.isdir(repodir)"
      ],
      "metadata": {
        "colab": {
          "base_uri": "https://localhost:8080/"
        },
        "id": "4TzzkZjak2zi",
        "outputId": "7b3ee74c-cabc-41d4-a7b0-52209939daa9"
      },
      "execution_count": null,
      "outputs": [
        {
          "output_type": "execute_result",
          "data": {
            "text/plain": [
              "False"
            ]
          },
          "metadata": {},
          "execution_count": 9
        }
      ]
    },
    {
      "cell_type": "code",
      "source": [
        "if os.path.isdir(repodir): # if repo exists, pull newest data\n",
        "\n",
        "    repo = Repo(repodir)\n",
        "    repo.remotes.origin.pull()\n",
        "else: # otherwise, clone from remote\n",
        "    repo = Repo.clone_from('https://github.com/jayggg/mth271content',\n",
        "\n",
        "repodir)"
      ],
      "metadata": {
        "id": "ypIT7C_Ok_N7"
      },
      "execution_count": null,
      "outputs": []
    },
    {
      "cell_type": "code",
      "source": [
        "repo.working_dir"
      ],
      "metadata": {
        "colab": {
          "base_uri": "https://localhost:8080/",
          "height": 35
        },
        "id": "ffkSmcQslNUG",
        "outputId": "6f83b1af-64dc-4ad7-f1e9-4146140420fd"
      },
      "execution_count": null,
      "outputs": [
        {
          "output_type": "execute_result",
          "data": {
            "text/plain": [
              "'/Users/Jay/tmpdir/mth271content'"
            ],
            "application/vnd.google.colaboratory.intrinsic+json": {
              "type": "string"
            }
          },
          "metadata": {},
          "execution_count": 11
        }
      ]
    }
  ]
}