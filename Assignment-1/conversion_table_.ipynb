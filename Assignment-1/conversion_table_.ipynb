{
  "cells": [
    {
      "cell_type": "code",
      "source": [
        "#using while loop makindg a table for F and C"
      ],
      "metadata": {
        "id": "Cm_gCluB-BlK"
      },
      "execution_count": null,
      "outputs": []
    },
    {
      "cell_type": "code",
      "execution_count": null,
      "metadata": {
        "colab": {
          "base_uri": "https://localhost:8080/"
        },
        "id": "fHzL5ZQklkMs",
        "outputId": "7397d009-1190-4e0f-c619-12f9c36f1214"
      },
      "outputs": [
        {
          "output_type": "stream",
          "name": "stdout",
          "text": [
            "F C\n",
            "32.0 0\n",
            "50.0 10\n",
            "68.0 20\n",
            "86.0 30\n",
            "104.0 40\n",
            "122.0 50\n",
            "140.0 60\n",
            "158.0 70\n",
            "176.0 80\n",
            "194.0 90\n",
            "212.0 100\n",
            "230.0 110\n",
            "248.0 120\n",
            "266.0 130\n",
            "284.0 140\n",
            "302.0 150\n",
            "320.0 160\n",
            "338.0 170\n",
            "356.0 180\n",
            "374.0 190\n",
            "392.0 200\n",
            "410.0 210\n",
            "428.0 220\n",
            "446.0 230\n",
            "464.0 240\n",
            "482.0 250\n"
          ]
        }
      ],
      "source": [
        "print('F C')\n",
        "C = 0\n",
        "while C <= 250:\n",
        "      F = 9 * C / 5 + 32\n",
        "      print(F, C)\n",
        "      C += 10"
      ]
    },
    {
      "cell_type": "code",
      "source": [
        "# by introducing some feactures we aligend the table value of F and C"
      ],
      "metadata": {
        "id": "PIOQnUyi-Mge"
      },
      "execution_count": null,
      "outputs": []
    },
    {
      "cell_type": "code",
      "execution_count": null,
      "metadata": {
        "id": "gfrlW5oYosXa",
        "colab": {
          "base_uri": "https://localhost:8080/"
        },
        "outputId": "dad53caf-279a-4662-ce79-ee5dbaeb7e6c"
      },
      "outputs": [
        {
          "output_type": "stream",
          "name": "stdout",
          "text": [
            " F C\n",
            "  32    0\n",
            "  50   10\n",
            "  68   20\n",
            "  86   30\n",
            " 104   40\n",
            " 122   50\n",
            " 140   60\n",
            " 158   70\n",
            " 176   80\n",
            " 194   90\n",
            " 212  100\n",
            " 230  110\n",
            " 248  120\n",
            " 266  130\n",
            " 284  140\n",
            " 302  150\n",
            " 320  160\n",
            " 338  170\n",
            " 356  180\n",
            " 374  190\n",
            " 392  200\n",
            " 410  210\n",
            " 428  220\n",
            " 446  230\n",
            " 464  240\n",
            " 482  250\n"
          ]
        }
      ],
      "source": [
        "print(' F C')\n",
        "C = 0\n",
        "\n",
        "\n",
        "while C <= 250:\n",
        "    F = 9 * C / 5 + 32\n",
        "    print('%4.0f %4.0f' % (F, C))\n",
        "    C += 10\n",
        "\n"
      ]
    },
    {
      "cell_type": "code",
      "source": [
        "#using for loop making a table for F and c"
      ],
      "metadata": {
        "id": "3RXrweE_ohEn"
      },
      "execution_count": null,
      "outputs": []
    },
    {
      "cell_type": "code",
      "execution_count": null,
      "metadata": {
        "id": "_ZtSlxzTo2i9",
        "colab": {
          "base_uri": "https://localhost:8080/"
        },
        "outputId": "cb74e598-cbeb-4589-deca-8bde755befe4"
      },
      "outputs": [
        {
          "output_type": "stream",
          "name": "stdout",
          "text": [
            " F C\n",
            "  32    0\n",
            "  50   10\n",
            "  68   20\n",
            "  86   30\n",
            " 104   40\n",
            " 122   50\n",
            " 140   60\n",
            " 158   70\n",
            " 176   80\n",
            " 194   90\n",
            " 212  100\n",
            " 230  110\n",
            " 248  120\n",
            " 266  130\n",
            " 284  140\n",
            " 302  150\n",
            " 320  160\n",
            " 338  170\n",
            " 356  180\n",
            " 374  190\n",
            " 392  200\n",
            " 410  210\n",
            " 428  220\n",
            " 446  230\n",
            " 464  240\n"
          ]
        }
      ],
      "source": [
        "print(' F C')\n",
        "for C in range(0, 250, 10):\n",
        "    F = 9 * C / 5 + 32\n",
        "    print('%4.0f %4.0f' % (F, C))"
      ]
    },
    {
      "cell_type": "code",
      "execution_count": null,
      "metadata": {
        "id": "UwQXeVswpFm-",
        "colab": {
          "base_uri": "https://localhost:8080/"
        },
        "outputId": "b0b329c7-0705-48cb-a77f-7c1d57083cf7"
      },
      "outputs": [
        {
          "output_type": "stream",
          "name": "stdout",
          "text": [
            " F C\n",
            " -58  -50\n",
            " -49  -45\n",
            " -40  -40\n",
            " -31  -35\n",
            " -22  -30\n",
            " -13  -25\n",
            "  -4  -20\n",
            "   5  -15\n",
            "  14  -10\n",
            "  23   -5\n",
            "  32    0\n",
            "  41    5\n",
            "  50   10\n",
            "  59   15\n",
            "  68   20\n",
            "  77   25\n",
            "  86   30\n",
            "  95   35\n",
            " 104   40\n",
            " 113   45\n"
          ]
        }
      ],
      "source": [
        "print(' F C')\n",
        "for C in range(-50, 50, 5):\n",
        "    F = 9 * C / 5 + 32\n",
        "    print('%4.0f %4.0f' % (F, C))"
      ]
    },
    {
      "cell_type": "code",
      "source": [
        "# using append function modifying the list"
      ],
      "metadata": {
        "id": "oeNWSu4ao4Sx"
      },
      "execution_count": null,
      "outputs": []
    },
    {
      "cell_type": "code",
      "execution_count": null,
      "metadata": {
        "id": "tJZpVFx4pRZJ",
        "colab": {
          "base_uri": "https://localhost:8080/"
        },
        "outputId": "441c4f8a-3e38-47d2-aaba-26426d3db331"
      },
      "outputs": [
        {
          "output_type": "execute_result",
          "data": {
            "text/plain": [
              "[0, 10, 20]"
            ]
          },
          "metadata": {},
          "execution_count": 6
        }
      ],
      "source": [
        "Cs = [0, 10] # create list using []\n",
        "Cs.append(20) # modify by appending an entry\n",
        "Cs"
      ]
    },
    {
      "cell_type": "code",
      "execution_count": null,
      "metadata": {
        "id": "k0p78_YDpUUJ"
      },
      "outputs": [],
      "source": [
        "Cs = (0, 10) # create a tuple using ()"
      ]
    },
    {
      "cell_type": "code",
      "execution_count": null,
      "metadata": {
        "id": "Rle0MZrUpjBo"
      },
      "outputs": [],
      "source": [
        "Cs = [] # empty list\n",
        "Fs = []\n",
        "for C in range(0, 250, 25):\n",
        "    Cs.append(C)\n",
        "Fs.append(9 * C / 5 + 32)"
      ]
    },
    {
      "cell_type": "code",
      "execution_count": null,
      "metadata": {
        "id": "bbKrnCSxpuWc",
        "colab": {
          "base_uri": "https://localhost:8080/"
        },
        "outputId": "d9177753-a6d1-4649-d00a-bf8ad56982e9"
      },
      "outputs": [
        {
          "output_type": "stream",
          "name": "stdout",
          "text": [
            "[0, 25, 50, 75, 100, 125, 150, 175, 200, 225]\n"
          ]
        }
      ],
      "source": [
        "print(Cs)"
      ]
    },
    {
      "cell_type": "code",
      "execution_count": null,
      "metadata": {
        "id": "NRUP5k6hpwTG",
        "colab": {
          "base_uri": "https://localhost:8080/"
        },
        "outputId": "107d8a96-6dab-4425-cce5-a11e34e598c0"
      },
      "outputs": [
        {
          "output_type": "stream",
          "name": "stdout",
          "text": [
            "[437.0]\n"
          ]
        }
      ],
      "source": [
        "print(Fs)"
      ]
    },
    {
      "cell_type": "code",
      "execution_count": null,
      "metadata": {
        "id": "EOIbSAD2p6QG",
        "colab": {
          "base_uri": "https://localhost:8080/"
        },
        "outputId": "b8733e56-c0c2-4f46-f140-c5e8fddd8e9f"
      },
      "outputs": [
        {
          "output_type": "stream",
          "name": "stdout",
          "text": [
            " F C\n",
            " 437    0\n"
          ]
        }
      ],
      "source": [
        "print(' F C')\n",
        "for C, F in zip(Cs, Fs):\n",
        "    print('%4.0f %4.0f' % (F, C))"
      ]
    },
    {
      "cell_type": "code",
      "execution_count": null,
      "metadata": {
        "id": "nwb5iVJiqGmE"
      },
      "outputs": [],
      "source": [
        "Fs = [9 * C / 5 + 32 for C in Cs]"
      ]
    }
  ],
  "metadata": {
    "colab": {
      "provenance": []
    },
    "kernelspec": {
      "display_name": "Python 3",
      "name": "python3"
    },
    "language_info": {
      "name": "python"
    }
  },
  "nbformat": 4,
  "nbformat_minor": 0
}