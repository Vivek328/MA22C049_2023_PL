{
  "nbformat": 4,
  "nbformat_minor": 0,
  "metadata": {
    "colab": {
      "provenance": []
    },
    "kernelspec": {
      "name": "python3",
      "display_name": "Python 3"
    },
    "language_info": {
      "name": "python"
    }
  },
  "cells": [
    {
      "cell_type": "code",
      "source": [
        "from random import uniform\n",
        "import numpy as np"
      ],
      "metadata": {
        "id": "yPIM41tXQiMF"
      },
      "execution_count": 1,
      "outputs": []
    },
    {
      "cell_type": "code",
      "source": [
        "def prob_insurance_ruin(init=1000, p=0.46, win=100):\n",
        "    P = np.zeros(init+1)  # mark win or lose here for each gamble i\n",
        "    P[0]=1\n",
        "    for i in range(1,init+1):\n",
        "      P[i] = (1-p) * P[min(i + win, init)] + p * P[max(i - 2*win, 0)]\n",
        "    return P[init]\n"
      ],
      "metadata": {
        "id": "IbObMEdAQiu_"
      },
      "execution_count": 2,
      "outputs": []
    },
    {
      "cell_type": "code",
      "source": [
        "prob_insurance_ruin()\n"
      ],
      "metadata": {
        "colab": {
          "base_uri": "https://localhost:8080/"
        },
        "id": "WHny3m7FQmSD",
        "outputId": "d88d7dac-fdb2-4121-b936-16ffc8250329"
      },
      "execution_count": 3,
      "outputs": [
        {
          "output_type": "execute_result",
          "data": {
            "text/plain": [
              "0.020596297600000004"
            ]
          },
          "metadata": {},
          "execution_count": 3
        }
      ]
    },
    {
      "cell_type": "code",
      "source": [
        "print(f\"Probability of ruin: {prob_insurance_ruin():.5f}\")"
      ],
      "metadata": {
        "colab": {
          "base_uri": "https://localhost:8080/"
        },
        "id": "Zizf1XftQ5ZB",
        "outputId": "2adc2985-9eaf-4e2f-9601-2ed75b3237db"
      },
      "execution_count": 4,
      "outputs": [
        {
          "output_type": "stream",
          "name": "stdout",
          "text": [
            "Probability of ruin: 0.02060\n"
          ]
        }
      ]
    },
    {
      "cell_type": "code",
      "source": [
        "prob_insurance_ruin(init=1590)"
      ],
      "metadata": {
        "colab": {
          "base_uri": "https://localhost:8080/"
        },
        "id": "coE6Gwx-Q-tZ",
        "outputId": "35ecf6b7-2533-43d2-ed60-465a3f744b25"
      },
      "execution_count": 5,
      "outputs": [
        {
          "output_type": "execute_result",
          "data": {
            "text/plain": [
              "0.0020047612231936006"
            ]
          },
          "metadata": {},
          "execution_count": 5
        }
      ]
    },
    {
      "cell_type": "code",
      "source": [
        "i=1590\n",
        "while prob_insurance_ruin(init=i)>0.001:\n",
        "  i=i+1\n",
        "print(\"Minimum capital required for making probablity of ruin <0.1%=\",i)"
      ],
      "metadata": {
        "colab": {
          "base_uri": "https://localhost:8080/"
        },
        "id": "SU3TgPXuRCKU",
        "outputId": "a6c6366d-4e06-4cc8-873e-aa18057191f9"
      },
      "execution_count": 6,
      "outputs": [
        {
          "output_type": "stream",
          "name": "stdout",
          "text": [
            "Minimum capital required for making probablity of ruin <0.1%= 1601\n"
          ]
        }
      ]
    },
    {
      "cell_type": "code",
      "source": [
        "prob_insurance_ruin(1600)\n"
      ],
      "metadata": {
        "colab": {
          "base_uri": "https://localhost:8080/"
        },
        "id": "JoblvL42RIvQ",
        "outputId": "aea27dce-eedb-4f95-b004-72214497ca8b"
      },
      "execution_count": 7,
      "outputs": [
        {
          "output_type": "execute_result",
          "data": {
            "text/plain": [
              "0.0020047612231936006"
            ]
          },
          "metadata": {},
          "execution_count": 7
        }
      ]
    },
    {
      "cell_type": "code",
      "source": [],
      "metadata": {
        "id": "wUJ4IR80RjkN"
      },
      "execution_count": 7,
      "outputs": []
    }
  ]
}