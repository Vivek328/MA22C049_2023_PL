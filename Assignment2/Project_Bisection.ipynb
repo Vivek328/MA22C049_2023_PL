{
  "nbformat": 4,
  "nbformat_minor": 0,
  "metadata": {
    "colab": {
      "provenance": []
    },
    "kernelspec": {
      "name": "python3",
      "display_name": "Python 3"
    },
    "language_info": {
      "name": "python"
    }
  },
  "cells": [
    {
      "cell_type": "code",
      "execution_count": 1,
      "metadata": {
        "id": "wDrOWb22cuwu"
      },
      "outputs": [],
      "source": [
        "import math\n"
      ]
    },
    {
      "cell_type": "code",
      "source": [
        "def bisection_method(func,a,b,eps,niters):\n",
        "  \"\"\"The root of the function is found at x=\"\"\" #docstring\n",
        "  if func(a)*func(b)>=0:\n",
        "    print(\"try for different values of a and b\")\n",
        "\n",
        "\n",
        "  count=0\n",
        "  while func(a)*func(b)<=0 and abs(b-a)>eps:\n",
        "    # the root finding proccess starts here\n",
        "      c=(a+b)/2\n",
        "      if func(c)==0:\n",
        "        print(\"try for different values of a and b\")\n",
        "      elif func(a)*func(c)>0:\n",
        "        a=c\n",
        "      else:\n",
        "        b=c\n",
        "      count+=1\n",
        "\n",
        "  print(bisection_method.__doc__,c)\n",
        "\n",
        "\n",
        "\n",
        "\n"
      ],
      "metadata": {
        "id": "KRMH36UWcz7O"
      },
      "execution_count": 2,
      "outputs": []
    },
    {
      "cell_type": "code",
      "source": [
        "def func(x):\n",
        "  return x-1-math.cos(x)"
      ],
      "metadata": {
        "id": "dW9brz7hc5OE"
      },
      "execution_count": 3,
      "outputs": []
    },
    {
      "cell_type": "code",
      "source": [
        "a=float(input(\"enter the lower bound\"))\n",
        "b=float(input(\"enter the upper bound\"))\n",
        "eps=float(input(\"error tolerance\"))\n",
        "niters=int(input(\"total no of iteration\"))\n",
        "bisection_method(func,a,b,eps,niters)"
      ],
      "metadata": {
        "colab": {
          "base_uri": "https://localhost:8080/"
        },
        "id": "LX8lRQrlc_Fn",
        "outputId": "a7605f74-a150-44be-c8b3-633b2e203475"
      },
      "execution_count": 5,
      "outputs": [
        {
          "output_type": "stream",
          "name": "stdout",
          "text": [
            "enter the lower bound-1\n",
            "enter the upper bound10\n",
            "error tolerance10\n",
            "total no of iteration100\n",
            "The root of the function is found at x= 4.5\n"
          ]
        }
      ]
    },
    {
      "cell_type": "code",
      "source": [],
      "metadata": {
        "id": "d9iNCgFKwFLh"
      },
      "execution_count": null,
      "outputs": []
    }
  ]
}