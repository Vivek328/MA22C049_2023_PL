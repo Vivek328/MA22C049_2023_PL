{
  "nbformat": 4,
  "nbformat_minor": 0,
  "metadata": {
    "colab": {
      "provenance": []
    },
    "kernelspec": {
      "name": "python3",
      "display_name": "Python 3"
    },
    "language_info": {
      "name": "python"
    }
  },
  "cells": [
    {
      "cell_type": "code",
      "source": [],
      "metadata": {
        "id": "R_uNmEFkpgNF"
      },
      "execution_count": null,
      "outputs": []
    },
    {
      "cell_type": "code",
      "execution_count": null,
      "metadata": {
        "colab": {
          "base_uri": "https://localhost:8080/"
        },
        "id": "IBEGLkkzk4te",
        "outputId": "8bd497cc-3772-4147-96d5-f6189739031b"
      },
      "outputs": [
        {
          "output_type": "stream",
          "name": "stdout",
          "text": [
            "inter first approximation value 1.1\n",
            "enter second value of approximation4.1\n",
            "no of iteration 100 m= f(m)= 3.2166638640983315e-05\n",
            "required root is : 1.57076416015625\n"
          ]
        }
      ],
      "source": [
        "from math import cos\n",
        "\n",
        "def f(x):\n",
        "    return cos(x)\n",
        "def bisection(f,a,b,eps,niters):\n",
        "    for _ in range(niters):\n",
        "       m=(a+b)/2\n",
        "       if abs(f(m))<eps:\n",
        "           break\n",
        "       if f(a)*f(m)<0:\n",
        "         b=m\n",
        "       else:\n",
        "         a=m\n",
        "    print(\"no of iteration\",niters, \"m=\",\"f(m)=\",f(m))\n",
        "    print(\"required root is :\",m)\n",
        "eps=0.0001\n",
        "niters=100\n",
        "a=input(\"inter first approximation value \")\n",
        "b=input(\"enter second value of approximation\")\n",
        "a=float(a)\n",
        "b=float(b)\n",
        "\n",
        "if f(a)*f(b)>0:\n",
        "     print(\"no result\")\n",
        "     print(\"try again \")\n",
        "else:\n",
        "      bisection(f,a,b,eps,niters)"
      ]
    }
  ]
}